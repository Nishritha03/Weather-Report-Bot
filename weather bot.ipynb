{
 "cells": [
  {
   "cell_type": "code",
   "execution_count": 1,
   "id": "db3284cb",
   "metadata": {},
   "outputs": [
    {
     "name": "stdout",
     "output_type": "stream",
     "text": [
      "Requirement already satisfied: SpeechRecognition in c:\\users\\nishr\\anaconda3\\lib\\site-packages (3.10.4)\n",
      "Requirement already satisfied: pyttsx3 in c:\\users\\nishr\\anaconda3\\lib\\site-packages (2.90)\n",
      "Requirement already satisfied: pyaudio in c:\\users\\nishr\\anaconda3\\lib\\site-packages (0.2.14)\n",
      "Requirement already satisfied: pydub in c:\\users\\nishr\\anaconda3\\lib\\site-packages (0.25.1)\n",
      "Requirement already satisfied: requests in c:\\users\\nishr\\anaconda3\\lib\\site-packages (2.28.1)\n",
      "Requirement already satisfied: typing-extensions in c:\\users\\nishr\\anaconda3\\lib\\site-packages (from SpeechRecognition) (4.4.0)\n",
      "Requirement already satisfied: comtypes in c:\\users\\nishr\\anaconda3\\lib\\site-packages (from pyttsx3) (1.4.4)\n",
      "Requirement already satisfied: pypiwin32 in c:\\users\\nishr\\anaconda3\\lib\\site-packages (from pyttsx3) (223)\n",
      "Requirement already satisfied: pywin32 in c:\\users\\nishr\\appdata\\roaming\\python\\python310\\site-packages (from pyttsx3) (305)\n",
      "Requirement already satisfied: charset-normalizer<3,>=2 in c:\\users\\nishr\\anaconda3\\lib\\site-packages (from requests) (2.0.4)\n",
      "Requirement already satisfied: idna<4,>=2.5 in c:\\users\\nishr\\anaconda3\\lib\\site-packages (from requests) (2.10)\n",
      "Requirement already satisfied: certifi>=2017.4.17 in c:\\users\\nishr\\anaconda3\\lib\\site-packages (from requests) (2023.5.7)\n",
      "Requirement already satisfied: urllib3<1.27,>=1.21.1 in c:\\users\\nishr\\anaconda3\\lib\\site-packages (from requests) (1.26.14)\n",
      "Note: you may need to restart the kernel to use updated packages.\n"
     ]
    }
   ],
   "source": [
    "pip install SpeechRecognition pyttsx3 pyaudio pydub  requests"
   ]
  },
  {
   "cell_type": "code",
   "execution_count": 2,
   "id": "04af7173",
   "metadata": {},
   "outputs": [],
   "source": [
    "import speech_recognition as sr\n",
    "import pyttsx3\n",
    "import pyaudio\n",
    "import requests\n",
    "from datetime import datetime\n"
   ]
  },
  {
   "cell_type": "code",
   "execution_count": 3,
   "id": "e2e60328",
   "metadata": {},
   "outputs": [],
   "source": [
    "def recognize_speech():\n",
    "    recognizer = sr.Recognizer()\n",
    "    with sr.Microphone() as source:\n",
    "        print(\"Listening...\")\n",
    "        recognizer.adjust_for_ambient_noise(source)\n",
    "        audio = recognizer.listen(source)\n",
    "    \n",
    "    try:\n",
    "        print(\"Recognizing...\")\n",
    "        query = recognizer.recognize_google(audio, language=\"en\")\n",
    "        print(f\"You said: {query}\")\n",
    "        return query.lower()\n",
    "    except sr.UnknownValueError:\n",
    "        print(\"Sorry, I couldn't understand what you said.\")\n",
    "        return \"\"\n",
    "    except sr.RequestError as e:\n",
    "        print(f\"Sorry, there was an error with the request: {e}\")\n",
    "        return \"\"\n",
    "    \n",
    "def speak(text):\n",
    "    engine = pyttsx3.init()\n",
    "    engine.say(text)\n",
    "    engine.runAndWait()"
   ]
  },
  {
   "cell_type": "code",
   "execution_count": 4,
   "id": "bfcf9a23",
   "metadata": {},
   "outputs": [],
   "source": [
    "def get_weather(city, lang=\"en\"):\n",
    "    api_key = '84667fdc469192a2df21abb77800c327'\n",
    "    base_url = \"http://api.openweathermap.org/data/2.5/weather?\"\n",
    "    complete_url = f\"{base_url}q={city}&appid={api_key}\"\n",
    "    response = requests.get(complete_url)\n",
    "    data = response.json()\n",
    "    \n",
    "    if data[\"cod\"] != \"404\":\n",
    "        main = data[\"main\"]\n",
    "        weather = data[\"weather\"][0]\n",
    "        wind = data[\"wind\"]\n",
    "        sys = data[\"sys\"]\n",
    "        aqi_url = f\"http://api.openweathermap.org/data/2.5/air_pollution?lat={data['coord']['lat']}&lon={data['coord']['lon']}&appid={api_key}\"\n",
    "        aqi_response = requests.get(aqi_url)\n",
    "        aqi_data = aqi_response.json()\n",
    "        \n",
    "        temperature = main[\"temp\"] - 273.15\n",
    "        humidity = main[\"humidity\"]\n",
    "        wind_speed = wind[\"speed\"]\n",
    "        description = weather[\"description\"]\n",
    "        sunrise = sys[\"sunrise\"]\n",
    "        sunset = sys[\"sunset\"]\n",
    "        aqi = aqi_data[\"list\"][0][\"main\"][\"aqi\"]\n",
    "\n",
    "        return {\n",
    "            \"temperature\": temperature,\n",
    "            \"humidity\": humidity,\n",
    "            \"wind_speed\": wind_speed,\n",
    "            \"description\": description,\n",
    "            \"sunrise\": sunrise,\n",
    "            \"sunset\": sunset,\n",
    "            \"aqi\": aqi\n",
    "        }\n",
    "    else:\n",
    "        return \"not found\"\n",
    "def get_health_recommendations(weather_info):\n",
    "    recommendations = []\n",
    "    \n",
    "    if weather_info[\"temperature\"] < 0:\n",
    "        recommendations.append(\"It's very cold outside. Make sure to dress warmly.\")\n",
    "    elif weather_info[\"temperature\"] > 30:\n",
    "        recommendations.append(\"It's very hot outside. Stay hydrated and avoid prolonged exposure to the sun.\")\n",
    "    \n",
    "    if weather_info[\"humidity\"] > 70:\n",
    "        recommendations.append(\"The humidity is high. It might feel hotter than the actual temperature.\")\n",
    "    \n",
    "    if weather_info[\"aqi\"] == 1:\n",
    "        recommendations.append(\"The air quality is good. It's a great day to be outside.\")\n",
    "    elif weather_info[\"aqi\"] == 2:\n",
    "        recommendations.append(\"The air quality is fair. People who are sensitive to pollution should limit outdoor activities.\")\n",
    "    elif weather_info[\"aqi\"] == 3:\n",
    "        recommendations.append(\"The air quality is moderate. It's better to stay indoors if you have respiratory issues.\")\n",
    "    elif weather_info[\"aqi\"] == 4:\n",
    "        recommendations.append(\"The air quality is poor. Avoid outdoor activities and wear a mask if necessary.\")\n",
    "    elif weather_info[\"aqi\"] == 5:\n",
    "        recommendations.append(\"The air quality is very poor. Stay indoors and keep windows closed.\")\n",
    "    \n",
    "    return \" \".join(recommendations)\n"
   ]
  },
  {
   "cell_type": "code",
   "execution_count": 5,
   "id": "86c85901",
   "metadata": {},
   "outputs": [
    {
     "name": "stdout",
     "output_type": "stream",
     "text": [
      "Listening...\n",
      "Recognizing...\n",
      "You said: Vadodara\n"
     ]
    }
   ],
   "source": [
    "def main():\n",
    "    speak(\"Hi! I'm your weather assistant. What location's weather do you want to know?\")\n",
    "    city = recognize_speech()\n",
    "    if city:\n",
    "        weather_info = get_weather(city)\n",
    "        if weather_info == \"not found\":\n",
    "            speak(f\"Sorry, I couldn't find weather information for {city}.\")\n",
    "        else:\n",
    "            weather_details = (\n",
    "                f\"The weather in {city} is {weather_info['description']} with a temperature of {weather_info['temperature']:.2f} degrees Celsius, \"\n",
    "                f\"humidity of {weather_info['humidity']}%, wind speed of {weather_info['wind_speed']} meters per second, \"\n",
    "                f\"sunrise at {weather_info['sunrise AM']} and sunset at {weather_info['sunset PM']}. \"\n",
    "                f\"The air quality index is {weather_info['aqi']}.\"\n",
    "            )\n",
    "            speak(weather_details)\n",
    "            health_recommendations = get_health_recommendations(weather_info)\n",
    "            speak(health_recommendations)\n",
    "    else:\n",
    "        speak(\"Please try again.\")\n",
    "\n",
    "if __name__ == \"__main__\":\n",
    "    main()"
   ]
  },
  {
   "cell_type": "code",
   "execution_count": null,
   "id": "b463cf78",
   "metadata": {},
   "outputs": [],
   "source": []
  }
 ],
 "metadata": {
  "kernelspec": {
   "display_name": "Python 3 (ipykernel)",
   "language": "python",
   "name": "python3"
  },
  "language_info": {
   "codemirror_mode": {
    "name": "ipython",
    "version": 3
   },
   "file_extension": ".py",
   "mimetype": "text/x-python",
   "name": "python",
   "nbconvert_exporter": "python",
   "pygments_lexer": "ipython3",
   "version": "3.10.9"
  }
 },
 "nbformat": 4,
 "nbformat_minor": 5
}
